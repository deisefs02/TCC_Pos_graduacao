{
 "cells": [
  {
   "cell_type": "markdown",
   "id": "eade0a15",
   "metadata": {},
   "source": [
    "# PERFIL DOS CLIENTES DA FEDERAÇÃO DAS INDÚSTRIAS DE SC: UMA TAREFA DE CLUSTERIZAÇÃO\n",
    "Deise Ferreira de Souza\n",
    "\n",
    "Pós-graduação Lato Sensu em Ciência de Dados e Big Data\n",
    "\n",
    "Pontifícia Universidade Católica De Minas Gerais"
   ]
  },
  {
   "cell_type": "markdown",
   "id": "7b19b075",
   "metadata": {},
   "source": [
    "Objetivos\n",
    "\n",
    "O objetivo deste estudo é por meio do uso de algoritmos de Machine Learning clusterizar os clientes das principais casas da FIESC, obter mais domínio sobre o perfil dos mesmos, contribuindo desta forma, para a definição de estratégias mais assertivas e eficazes de comunicação e relacionamento com os clientes."
   ]
  },
  {
   "cell_type": "code",
   "execution_count": 4,
   "id": "2657479c",
   "metadata": {},
   "outputs": [],
   "source": [
    "# Carregar bibliotecas\n",
    "import pandas as pd\n",
    "import matplotlib.pyplot as plt "
   ]
  },
  {
   "cell_type": "code",
   "execution_count": 5,
   "id": "09a9f41b",
   "metadata": {},
   "outputs": [],
   "source": [
    "#ler a base de dados\n",
    "dataframe_fiesc = pd.read_excel(\"base_kmodes_clientes (1).xlsm\")"
   ]
  },
  {
   "cell_type": "markdown",
   "id": "9f27515d",
   "metadata": {},
   "source": [
    "# 1- Limpeza dos dados \n",
    " A Análise exploratória foi realizada no algoritmo k-prototypes o qual utilizou a mesma base + a variável faturamento"
   ]
  },
  {
   "cell_type": "code",
   "execution_count": 6,
   "id": "2da1eb9d",
   "metadata": {},
   "outputs": [
    {
     "name": "stdout",
     "output_type": "stream",
     "text": [
      "<class 'pandas.core.frame.DataFrame'>\n",
      "RangeIndex: 21810 entries, 0 to 21809\n",
      "Data columns (total 4 columns):\n",
      " #   Column      Non-Null Count  Dtype \n",
      "---  ------      --------------  ----- \n",
      " 0   Unnamed: 0  21809 non-null  object\n",
      " 1   Unnamed: 1  21809 non-null  object\n",
      " 2   Unnamed: 2  21809 non-null  object\n",
      " 3   Unnamed: 3  21809 non-null  object\n",
      "dtypes: object(4)\n",
      "memory usage: 681.7+ KB\n"
     ]
    }
   ],
   "source": [
    "dataframe_fiesc.info()"
   ]
  },
  {
   "cell_type": "code",
   "execution_count": 8,
   "id": "17273026",
   "metadata": {},
   "outputs": [],
   "source": [
    "#renomeando das colunas\n",
    "dataframe_fiesc.rename(columns={'Unnamed: 0': 'cnpj','Unnamed: 1': 'produto','Unnamed: 2': 'porte','Unnamed: 3': 'setor'}, inplace = True)\n",
    "dataframe_fiesc.drop(0)\n",
    "dataframe_fiesc = dataframe_fiesc.drop(['cnpj'], axis = 1)"
   ]
  },
  {
   "cell_type": "code",
   "execution_count": 10,
   "id": "890fb236",
   "metadata": {},
   "outputs": [
    {
     "name": "stdout",
     "output_type": "stream",
     "text": [
      "Nome da coluna: produto\n",
      "Lista de valores únicos: [nan 'IEL' 'Educação ' 'Tecnologia' 'Ensino Superior' 'Qualificação'\n",
      " 'Ensino Técnico' 'SEGURANÇA E SAÚDE NO TRABALHO' 'Saúde Assistencial'\n",
      " 'PROMOÇÃO DA SAÚDE' 'Ensino básico']\n",
      "Total de valores únicos: produto\n",
      "SEGURANÇA E SAÚDE NO TRABALHO    5215\n",
      "Saúde Assistencial               4964\n",
      "Tecnologia                       4282\n",
      "Qualificação                     2744\n",
      "IEL                              1487\n",
      "PROMOÇÃO DA SAÚDE                1464\n",
      "Ensino Técnico                    566\n",
      "Ensino Superior                   473\n",
      "Ensino básico                     391\n",
      "Educação                          223\n",
      "Name: count, dtype: int64\n",
      "Total de valores únicos: 10\n",
      "Tem 1 valores NULL; Correspondem a 0.00% do total de valores dessa coluna\n",
      "----------------------------------------------------------------------------------------------------\n",
      "Nome da coluna: porte\n",
      "Lista de valores únicos: [nan 'Micro' 'Média' 'Pequena' 'Grande']\n",
      "Total de valores únicos: porte\n",
      "Pequena    8250\n",
      "Micro      6861\n",
      "Média      4702\n",
      "Grande     1996\n",
      "Name: count, dtype: int64\n",
      "Total de valores únicos: 4\n",
      "Tem 1 valores NULL; Correspondem a 0.00% do total de valores dessa coluna\n",
      "----------------------------------------------------------------------------------------------------\n",
      "Nome da coluna: setor\n",
      "Lista de valores únicos: [nan 'INDÚSTRIA GRÁFICA' 'ALIMENTOS E BEBIDAS'\n",
      " 'SERVIÇOS FINANCEIROS E DE  SEGUROS' 'ARTES, CULTURA E ESPORTE'\n",
      " 'COMÉRCIO VAREJISTA' 'CONSTRUÇÃO' 'SERVIÇOS DA ADMINISTRAÇÃO PÚBLICA'\n",
      " 'TRANSPORTE, ARMAZENAGEM E CORREIO' 'MÁQUINAS E EQUIPAMENTOS'\n",
      " 'CELULOSE E PAPEL' 'AUTOMOTIVA' 'SERVIÇOS DA EDUCAÇÃO'\n",
      " 'SERVIÇOS PROFISSIONAIS, CIENTÍFICOS E TÉCNICOS'\n",
      " 'ÓLEO, GÁS E ELETRICIDADE' 'COMÉRCIO DE VEÍCULOS AUTOMOTORES' 'TIC'\n",
      " 'METALMECÂNICA E METALURGIA' 'SERVIÇOS ADMINISTRATIVOS'\n",
      " 'MADEIRA E MÓVEIS' 'EQUIPAMENTOS ELÉTRICOS' 'SERVIÇOS DIVERSOS'\n",
      " 'INFORMAÇÃO E COMUNICAÇÃO' 'CERÂMICA' 'SERVIÇOS DA SAÚDE'\n",
      " 'TÊXTIL, CONFECÇÃO, COURO E CALÇADOS' 'ALOJAMENTO E ALIMENTAÇÃO'\n",
      " 'PRODUTOS QUÍMICOS E PLÁSTICOS' 'INDÚSTRIA EXTRATIVA' 'não definido'\n",
      " 'PRODUÇÃO FLORESTAL' 'COMÉRCIO POR ATACADO' 'SERVIÇOS IMOBILIÁRIOS'\n",
      " 'AGROPECUÁRIA' 'INDÚSTRIA DIVERSA' 'SANEAMENTO BÁSICO'\n",
      " 'FÁRMACOS E EQUIPAMENTOS DE SAÚDE' 'FUMO' 'ORGANISMOS INTERNACIONAIS']\n",
      "Total de valores únicos: setor\n",
      "TÊXTIL, CONFECÇÃO, COURO E CALÇADOS               2813\n",
      "ALIMENTOS E BEBIDAS                               1624\n",
      "MADEIRA E MÓVEIS                                  1488\n",
      "MÁQUINAS E EQUIPAMENTOS                           1408\n",
      "COMÉRCIO VAREJISTA                                1272\n",
      "PRODUTOS QUÍMICOS E PLÁSTICOS                     1222\n",
      "CONSTRUÇÃO                                        1170\n",
      "COMÉRCIO POR ATACADO                              1154\n",
      "METALMECÂNICA E METALURGIA                        1039\n",
      "SERVIÇOS PROFISSIONAIS, CIENTÍFICOS E TÉCNICOS     789\n",
      "SERVIÇOS DA ADMINISTRAÇÃO PÚBLICA                  728\n",
      "CERÂMICA                                           657\n",
      "TRANSPORTE, ARMAZENAGEM E CORREIO                  561\n",
      "COMÉRCIO DE VEÍCULOS AUTOMOTORES                   550\n",
      "TIC                                                545\n",
      "SERVIÇOS DIVERSOS                                  525\n",
      "SERVIÇOS ADMINISTRATIVOS                           500\n",
      "CELULOSE E PAPEL                                   435\n",
      "AUTOMOTIVA                                         397\n",
      "EQUIPAMENTOS ELÉTRICOS                             369\n",
      "SERVIÇOS DA EDUCAÇÃO                               353\n",
      "SERVIÇOS DA SAÚDE                                  297\n",
      "SANEAMENTO BÁSICO                                  251\n",
      "SERVIÇOS FINANCEIROS E DE  SEGUROS                 233\n",
      "INDÚSTRIA DIVERSA                                  196\n",
      "INDÚSTRIA GRÁFICA                                  160\n",
      "INDÚSTRIA EXTRATIVA                                156\n",
      "ALOJAMENTO E ALIMENTAÇÃO                           155\n",
      "ÓLEO, GÁS E ELETRICIDADE                           146\n",
      "ARTES, CULTURA E ESPORTE                           139\n",
      "AGROPECUÁRIA                                       128\n",
      "INFORMAÇÃO E COMUNICAÇÃO                           102\n",
      "PRODUÇÃO FLORESTAL                                  97\n",
      "SERVIÇOS IMOBILIÁRIOS                               94\n",
      "FÁRMACOS E EQUIPAMENTOS DE SAÚDE                    30\n",
      "FUMO                                                12\n",
      "não definido                                        11\n",
      "ORGANISMOS INTERNACIONAIS                            3\n",
      "Name: count, dtype: int64\n",
      "Total de valores únicos: 38\n",
      "Tem 1 valores NULL; Correspondem a 0.00% do total de valores dessa coluna\n",
      "----------------------------------------------------------------------------------------------------\n"
     ]
    }
   ],
   "source": [
    "#Explorando os dados\n",
    "for col in dataframe_fiesc.columns:\n",
    "  print(\"Nome da coluna:\", col)\n",
    "  print(\"Lista de valores únicos:\", dataframe_fiesc[col].unique())\n",
    "  print(\"Total de valores únicos:\", dataframe_fiesc[col].value_counts())\n",
    "  print(\"Total de valores únicos:\", dataframe_fiesc[col].nunique())\n",
    "  if dataframe_fiesc[col].isnull().any():\n",
    "    null_total = dataframe_fiesc[col].isnull().sum()\n",
    "    total = len(dataframe_fiesc[col])\n",
    "    porcent_null = (null_total/total)*100\n",
    "    print(f\"Tem {null_total} valores NULL; Correspondem a {porcent_null:.2f}% do total de valores dessa coluna\")\n",
    "  else:\n",
    "    print(\"Não Tem NULL\")\n",
    "  print('-'*100)"
   ]
  },
  {
   "cell_type": "code",
   "execution_count": 11,
   "id": "49b77f85",
   "metadata": {},
   "outputs": [],
   "source": [
    "dataframe_fiesc = dataframe_fiesc.dropna()"
   ]
  },
  {
   "cell_type": "code",
   "execution_count": 12,
   "id": "51f5ad36",
   "metadata": {},
   "outputs": [
    {
     "name": "stdout",
     "output_type": "stream",
     "text": [
      "<class 'pandas.core.frame.DataFrame'>\n",
      "Index: 21809 entries, 1 to 21809\n",
      "Data columns (total 3 columns):\n",
      " #   Column   Non-Null Count  Dtype \n",
      "---  ------   --------------  ----- \n",
      " 0   produto  21809 non-null  object\n",
      " 1   porte    21809 non-null  object\n",
      " 2   setor    21809 non-null  object\n",
      "dtypes: object(3)\n",
      "memory usage: 681.5+ KB\n"
     ]
    }
   ],
   "source": [
    "dataframe_fiesc.info()"
   ]
  },
  {
   "cell_type": "markdown",
   "id": "35a52ccc",
   "metadata": {},
   "source": [
    "# 2 - Modelagem - k-modes"
   ]
  },
  {
   "cell_type": "code",
   "execution_count": 8,
   "id": "07cb6de6",
   "metadata": {},
   "outputs": [],
   "source": [
    "#modulo para o algoritmo de agrupamento\n",
    "from kmodes.kmodes import KModes "
   ]
  },
  {
   "cell_type": "code",
   "execution_count": 10,
   "id": "e39a69fd",
   "metadata": {},
   "outputs": [
    {
     "name": "stdout",
     "output_type": "stream",
     "text": [
      "<class 'pandas.core.frame.DataFrame'>\n",
      "Index: 21809 entries, 1 to 21809\n",
      "Data columns (total 3 columns):\n",
      " #   Column   Non-Null Count  Dtype \n",
      "---  ------   --------------  ----- \n",
      " 0   produto  21809 non-null  object\n",
      " 1   porte    21809 non-null  object\n",
      " 2   setor    21809 non-null  object\n",
      "dtypes: object(3)\n",
      "memory usage: 681.5+ KB\n"
     ]
    }
   ],
   "source": [
    "dataframe_fiesc.info()"
   ]
  },
  {
   "cell_type": "code",
   "execution_count": 11,
   "id": "e29ded30",
   "metadata": {},
   "outputs": [
    {
     "data": {
      "text/html": [
       "<div>\n",
       "<style scoped>\n",
       "    .dataframe tbody tr th:only-of-type {\n",
       "        vertical-align: middle;\n",
       "    }\n",
       "\n",
       "    .dataframe tbody tr th {\n",
       "        vertical-align: top;\n",
       "    }\n",
       "\n",
       "    .dataframe thead th {\n",
       "        text-align: right;\n",
       "    }\n",
       "</style>\n",
       "<table border=\"1\" class=\"dataframe\">\n",
       "  <thead>\n",
       "    <tr style=\"text-align: right;\">\n",
       "      <th></th>\n",
       "      <th>produto</th>\n",
       "      <th>porte</th>\n",
       "      <th>setor</th>\n",
       "    </tr>\n",
       "  </thead>\n",
       "  <tbody>\n",
       "    <tr>\n",
       "      <th>1</th>\n",
       "      <td>IEL</td>\n",
       "      <td>Micro</td>\n",
       "      <td>INDÚSTRIA GRÁFICA</td>\n",
       "    </tr>\n",
       "    <tr>\n",
       "      <th>2</th>\n",
       "      <td>IEL</td>\n",
       "      <td>Média</td>\n",
       "      <td>ALIMENTOS E BEBIDAS</td>\n",
       "    </tr>\n",
       "    <tr>\n",
       "      <th>3</th>\n",
       "      <td>IEL</td>\n",
       "      <td>Pequena</td>\n",
       "      <td>ALIMENTOS E BEBIDAS</td>\n",
       "    </tr>\n",
       "    <tr>\n",
       "      <th>4</th>\n",
       "      <td>IEL</td>\n",
       "      <td>Pequena</td>\n",
       "      <td>SERVIÇOS FINANCEIROS E DE  SEGUROS</td>\n",
       "    </tr>\n",
       "    <tr>\n",
       "      <th>5</th>\n",
       "      <td>IEL</td>\n",
       "      <td>Micro</td>\n",
       "      <td>ARTES, CULTURA E ESPORTE</td>\n",
       "    </tr>\n",
       "  </tbody>\n",
       "</table>\n",
       "</div>"
      ],
      "text/plain": [
       "  produto    porte                               setor\n",
       "1     IEL    Micro                   INDÚSTRIA GRÁFICA\n",
       "2     IEL    Média                 ALIMENTOS E BEBIDAS\n",
       "3     IEL  Pequena                 ALIMENTOS E BEBIDAS\n",
       "4     IEL  Pequena  SERVIÇOS FINANCEIROS E DE  SEGUROS\n",
       "5     IEL    Micro            ARTES, CULTURA E ESPORTE"
      ]
     },
     "execution_count": 11,
     "metadata": {},
     "output_type": "execute_result"
    }
   ],
   "source": [
    "dataframe_fiesc.head()"
   ]
  },
  {
   "cell_type": "code",
   "execution_count": 13,
   "id": "257fb0b8",
   "metadata": {},
   "outputs": [],
   "source": [
    "#usar o numpy para converter o quadro de dados em uma matriz\n",
    "import numpy as np "
   ]
  },
  {
   "cell_type": "code",
   "execution_count": 14,
   "id": "456d77c3",
   "metadata": {},
   "outputs": [
    {
     "data": {
      "text/plain": [
       "array([['IEL', 'Micro', 'INDÚSTRIA GRÁFICA'],\n",
       "       ['IEL', 'Média', 'ALIMENTOS E BEBIDAS'],\n",
       "       ['IEL', 'Pequena', 'ALIMENTOS E BEBIDAS'],\n",
       "       ...,\n",
       "       ['PROMOÇÃO DA SAÚDE', 'Pequena', 'SANEAMENTO BÁSICO'],\n",
       "       ['Saúde Assistencial', 'Pequena', 'SANEAMENTO BÁSICO'],\n",
       "       ['Saúde Assistencial', 'Pequena', 'SANEAMENTO BÁSICO']],\n",
       "      dtype=object)"
      ]
     },
     "execution_count": 14,
     "metadata": {},
     "output_type": "execute_result"
    }
   ],
   "source": [
    "#trandformando em matriz\n",
    "dfMatrix = dataframe_fiesc.loc[:].to_numpy() \n",
    "dfMatrix"
   ]
  },
  {
   "cell_type": "code",
   "execution_count": 15,
   "id": "f0293aec",
   "metadata": {},
   "outputs": [
    {
     "name": "stdout",
     "output_type": "stream",
     "text": [
      "1\n",
      "2\n",
      "3\n",
      "4\n",
      "5\n",
      "6\n"
     ]
    }
   ],
   "source": [
    "n_clusters = range(1,7)\n",
    "for n_clus in n_clusters:\n",
    "    print(n_clus)"
   ]
  },
  {
   "cell_type": "code",
   "execution_count": 16,
   "id": "4a28d1ba",
   "metadata": {},
   "outputs": [
    {
     "name": "stdout",
     "output_type": "stream",
     "text": [
      "clusterização: 1\n",
      "clusterização: 2\n",
      "clusterização: 3\n",
      "clusterização: 4\n",
      "clusterização: 5\n",
      "clusterização: 6\n"
     ]
    }
   ],
   "source": [
    "#escolhendo o numero ideal de cluster\n",
    "\n",
    "cost = []\n",
    "\n",
    "for cluster in range (1,7):\n",
    "    try:\n",
    "        kmodes = KModes(n_jobs = -1, n_clusters = cluster, init = 'huang', random_state = 0)\n",
    "        kmodes.fit_predict(dfMatrix)\n",
    "        cost.append(kmodes.cost_)\n",
    "        print('clusterização: {}'. format(cluster))\n",
    "    except:\n",
    "        break"
   ]
  },
  {
   "cell_type": "code",
   "execution_count": 17,
   "id": "b3a2da56",
   "metadata": {},
   "outputs": [],
   "source": [
    "from plotnine import * \n",
    "import plotnine\n",
    "import matplotlib.pyplot as plt\n",
    "plt.style.use('ggplot')"
   ]
  },
  {
   "cell_type": "code",
   "execution_count": 18,
   "id": "7b5ec8d1",
   "metadata": {},
   "outputs": [
    {
     "data": {
      "text/html": [
       "<div>\n",
       "<style scoped>\n",
       "    .dataframe tbody tr th:only-of-type {\n",
       "        vertical-align: middle;\n",
       "    }\n",
       "\n",
       "    .dataframe tbody tr th {\n",
       "        vertical-align: top;\n",
       "    }\n",
       "\n",
       "    .dataframe thead th {\n",
       "        text-align: right;\n",
       "    }\n",
       "</style>\n",
       "<table border=\"1\" class=\"dataframe\">\n",
       "  <thead>\n",
       "    <tr style=\"text-align: right;\">\n",
       "      <th></th>\n",
       "      <th>Cluster</th>\n",
       "      <th>Cost</th>\n",
       "    </tr>\n",
       "  </thead>\n",
       "  <tbody>\n",
       "    <tr>\n",
       "      <th>0</th>\n",
       "      <td>1</td>\n",
       "      <td>49149.0</td>\n",
       "    </tr>\n",
       "    <tr>\n",
       "      <th>1</th>\n",
       "      <td>2</td>\n",
       "      <td>40667.0</td>\n",
       "    </tr>\n",
       "    <tr>\n",
       "      <th>2</th>\n",
       "      <td>3</td>\n",
       "      <td>36023.0</td>\n",
       "    </tr>\n",
       "    <tr>\n",
       "      <th>3</th>\n",
       "      <td>4</td>\n",
       "      <td>33526.0</td>\n",
       "    </tr>\n",
       "    <tr>\n",
       "      <th>4</th>\n",
       "      <td>5</td>\n",
       "      <td>32273.0</td>\n",
       "    </tr>\n",
       "    <tr>\n",
       "      <th>5</th>\n",
       "      <td>6</td>\n",
       "      <td>30891.0</td>\n",
       "    </tr>\n",
       "  </tbody>\n",
       "</table>\n",
       "</div>"
      ],
      "text/plain": [
       "   Cluster     Cost\n",
       "0        1  49149.0\n",
       "1        2  40667.0\n",
       "2        3  36023.0\n",
       "3        4  33526.0\n",
       "4        5  32273.0\n",
       "5        6  30891.0"
      ]
     },
     "execution_count": 18,
     "metadata": {},
     "output_type": "execute_result"
    }
   ],
   "source": [
    "#convertendo os resultados em um data frame e plotando\n",
    "\n",
    "df_cost = pd.DataFrame({'Cluster': range(1,7), 'Cost': cost})\n",
    "df_cost\n"
   ]
  },
  {
   "cell_type": "code",
   "execution_count": 19,
   "id": "7b41e52e",
   "metadata": {},
   "outputs": [
    {
     "data": {
      "image/png": "[encoded data removed]",
      "text/plain": [
       "<Figure size 1080x360 with 1 Axes>"
      ]
     },
     "metadata": {
      "needs_background": "light"
     },
     "output_type": "display_data"
    }
   ],
   "source": [
    "plt.figure(figsize=(15,5))\n",
    "plt.plot(n_clusters, cost)\n",
    "plt.grid()"
   ]
  },
  {
   "cell_type": "code",
   "execution_count": 20,
   "id": "9f2fc07f",
   "metadata": {},
   "outputs": [],
   "source": [
    "#ajuste o cluster\n",
    "\n",
    "kmodes = KModes(n_jobs = -1, n_clusters = 3 , init = \"huang\", random_state = 0)\n",
    "cluster_pred = kmodes.fit_predict(dfMatrix)"
   ]
  },
  {
   "cell_type": "code",
   "execution_count": 21,
   "id": "a7d68903",
   "metadata": {},
   "outputs": [
    {
     "data": {
      "text/plain": [
       "array([2, 0, 1, ..., 1, 1, 1], dtype=uint16)"
      ]
     },
     "execution_count": 21,
     "metadata": {},
     "output_type": "execute_result"
    }
   ],
   "source": [
    "cluster_pred"
   ]
  },
  {
   "cell_type": "code",
   "execution_count": 22,
   "id": "da84b3be",
   "metadata": {},
   "outputs": [
    {
     "data": {
      "text/plain": [
       "1"
      ]
     },
     "execution_count": 22,
     "metadata": {},
     "output_type": "execute_result"
    }
   ],
   "source": [
    "kmodes.n_iter_"
   ]
  },
  {
   "cell_type": "code",
   "execution_count": 23,
   "id": "926964b9",
   "metadata": {},
   "outputs": [
    {
     "data": {
      "text/plain": [
       "36023.0"
      ]
     },
     "execution_count": 23,
     "metadata": {},
     "output_type": "execute_result"
    }
   ],
   "source": [
    "kmodes.cost_"
   ]
  },
  {
   "cell_type": "code",
   "execution_count": 24,
   "id": "bf75dc3e",
   "metadata": {
    "scrolled": true
   },
   "outputs": [
    {
     "data": {
      "text/plain": [
       "array([['Qualificação', 'Média', 'TÊXTIL, CONFECÇÃO, COURO E CALÇADOS'],\n",
       "       ['Saúde Assistencial', 'Pequena',\n",
       "        'TÊXTIL, CONFECÇÃO, COURO E CALÇADOS'],\n",
       "       ['SEGURANÇA E SAÚDE NO TRABALHO', 'Micro', 'COMÉRCIO VAREJISTA']],\n",
       "      dtype='<U35')"
      ]
     },
     "execution_count": 24,
     "metadata": {},
     "output_type": "execute_result"
    }
   ],
   "source": [
    "#cluster centroid\n",
    "kmodes.cluster_centroids_"
   ]
  },
  {
   "cell_type": "code",
   "execution_count": 25,
   "id": "77269d3a",
   "metadata": {},
   "outputs": [],
   "source": [
    "#adicione o cluster ao dataframe\n",
    "\n",
    "dataframe_fiesc['Cluster Labels'] = kmodes.labels_"
   ]
  },
  {
   "cell_type": "code",
   "execution_count": 26,
   "id": "fefd6272",
   "metadata": {},
   "outputs": [],
   "source": [
    "dataframe_fiesc['Clusters'] = dataframe_fiesc['Cluster Labels'].map({0: \"Primeiro\", 1: \"Segundo\", 2: \"Terceiro\"})\n"
   ]
  },
  {
   "cell_type": "code",
   "execution_count": 27,
   "id": "c2720cb7",
   "metadata": {},
   "outputs": [
    {
     "data": {
      "text/html": [
       "<div>\n",
       "<style scoped>\n",
       "    .dataframe tbody tr th:only-of-type {\n",
       "        vertical-align: middle;\n",
       "    }\n",
       "\n",
       "    .dataframe tbody tr th {\n",
       "        vertical-align: top;\n",
       "    }\n",
       "\n",
       "    .dataframe thead th {\n",
       "        text-align: right;\n",
       "    }\n",
       "</style>\n",
       "<table border=\"1\" class=\"dataframe\">\n",
       "  <thead>\n",
       "    <tr style=\"text-align: right;\">\n",
       "      <th></th>\n",
       "      <th>produto</th>\n",
       "      <th>porte</th>\n",
       "      <th>setor</th>\n",
       "      <th>Cluster Labels</th>\n",
       "      <th>Clusters</th>\n",
       "    </tr>\n",
       "  </thead>\n",
       "  <tbody>\n",
       "    <tr>\n",
       "      <th>1</th>\n",
       "      <td>IEL</td>\n",
       "      <td>Micro</td>\n",
       "      <td>INDÚSTRIA GRÁFICA</td>\n",
       "      <td>2</td>\n",
       "      <td>Terceiro</td>\n",
       "    </tr>\n",
       "    <tr>\n",
       "      <th>2</th>\n",
       "      <td>IEL</td>\n",
       "      <td>Média</td>\n",
       "      <td>ALIMENTOS E BEBIDAS</td>\n",
       "      <td>0</td>\n",
       "      <td>Primeiro</td>\n",
       "    </tr>\n",
       "    <tr>\n",
       "      <th>3</th>\n",
       "      <td>IEL</td>\n",
       "      <td>Pequena</td>\n",
       "      <td>ALIMENTOS E BEBIDAS</td>\n",
       "      <td>1</td>\n",
       "      <td>Segundo</td>\n",
       "    </tr>\n",
       "    <tr>\n",
       "      <th>4</th>\n",
       "      <td>IEL</td>\n",
       "      <td>Pequena</td>\n",
       "      <td>SERVIÇOS FINANCEIROS E DE  SEGUROS</td>\n",
       "      <td>1</td>\n",
       "      <td>Segundo</td>\n",
       "    </tr>\n",
       "    <tr>\n",
       "      <th>5</th>\n",
       "      <td>IEL</td>\n",
       "      <td>Micro</td>\n",
       "      <td>ARTES, CULTURA E ESPORTE</td>\n",
       "      <td>2</td>\n",
       "      <td>Terceiro</td>\n",
       "    </tr>\n",
       "    <tr>\n",
       "      <th>...</th>\n",
       "      <td>...</td>\n",
       "      <td>...</td>\n",
       "      <td>...</td>\n",
       "      <td>...</td>\n",
       "      <td>...</td>\n",
       "    </tr>\n",
       "    <tr>\n",
       "      <th>21805</th>\n",
       "      <td>Saúde Assistencial</td>\n",
       "      <td>Pequena</td>\n",
       "      <td>SANEAMENTO BÁSICO</td>\n",
       "      <td>1</td>\n",
       "      <td>Segundo</td>\n",
       "    </tr>\n",
       "    <tr>\n",
       "      <th>21806</th>\n",
       "      <td>SEGURANÇA E SAÚDE NO TRABALHO</td>\n",
       "      <td>Pequena</td>\n",
       "      <td>SANEAMENTO BÁSICO</td>\n",
       "      <td>1</td>\n",
       "      <td>Segundo</td>\n",
       "    </tr>\n",
       "    <tr>\n",
       "      <th>21807</th>\n",
       "      <td>PROMOÇÃO DA SAÚDE</td>\n",
       "      <td>Pequena</td>\n",
       "      <td>SANEAMENTO BÁSICO</td>\n",
       "      <td>1</td>\n",
       "      <td>Segundo</td>\n",
       "    </tr>\n",
       "    <tr>\n",
       "      <th>21808</th>\n",
       "      <td>Saúde Assistencial</td>\n",
       "      <td>Pequena</td>\n",
       "      <td>SANEAMENTO BÁSICO</td>\n",
       "      <td>1</td>\n",
       "      <td>Segundo</td>\n",
       "    </tr>\n",
       "    <tr>\n",
       "      <th>21809</th>\n",
       "      <td>Saúde Assistencial</td>\n",
       "      <td>Pequena</td>\n",
       "      <td>SANEAMENTO BÁSICO</td>\n",
       "      <td>1</td>\n",
       "      <td>Segundo</td>\n",
       "    </tr>\n",
       "  </tbody>\n",
       "</table>\n",
       "<p>21809 rows × 5 columns</p>\n",
       "</div>"
      ],
      "text/plain": [
       "                             produto    porte  \\\n",
       "1                                IEL    Micro   \n",
       "2                                IEL    Média   \n",
       "3                                IEL  Pequena   \n",
       "4                                IEL  Pequena   \n",
       "5                                IEL    Micro   \n",
       "...                              ...      ...   \n",
       "21805             Saúde Assistencial  Pequena   \n",
       "21806  SEGURANÇA E SAÚDE NO TRABALHO  Pequena   \n",
       "21807              PROMOÇÃO DA SAÚDE  Pequena   \n",
       "21808             Saúde Assistencial  Pequena   \n",
       "21809             Saúde Assistencial  Pequena   \n",
       "\n",
       "                                    setor  Cluster Labels  Clusters  \n",
       "1                       INDÚSTRIA GRÁFICA               2  Terceiro  \n",
       "2                     ALIMENTOS E BEBIDAS               0  Primeiro  \n",
       "3                     ALIMENTOS E BEBIDAS               1   Segundo  \n",
       "4      SERVIÇOS FINANCEIROS E DE  SEGUROS               1   Segundo  \n",
       "5                ARTES, CULTURA E ESPORTE               2  Terceiro  \n",
       "...                                   ...             ...       ...  \n",
       "21805                   SANEAMENTO BÁSICO               1   Segundo  \n",
       "21806                   SANEAMENTO BÁSICO               1   Segundo  \n",
       "21807                   SANEAMENTO BÁSICO               1   Segundo  \n",
       "21808                   SANEAMENTO BÁSICO               1   Segundo  \n",
       "21809                   SANEAMENTO BÁSICO               1   Segundo  \n",
       "\n",
       "[21809 rows x 5 columns]"
      ]
     },
     "execution_count": 27,
     "metadata": {},
     "output_type": "execute_result"
    }
   ],
   "source": [
    "#Ordene o cluster\n",
    "dataframe_fiesc['Clusters'] = dataframe_fiesc['Clusters'].astype('category')\n",
    "dataframe_fiesc['Clusters'] = dataframe_fiesc['Clusters'].cat.reorder_categories([\"Primeiro\", \"Segundo\", \"Terceiro\"])\n",
    "\n",
    "dataframe_fiesc"
   ]
  },
  {
   "cell_type": "code",
   "execution_count": 32,
   "id": "1847631e",
   "metadata": {},
   "outputs": [
    {
     "data": {
      "text/plain": [
       "Clusters\n",
       "Segundo     8752\n",
       "Primeiro    8011\n",
       "Terceiro    5046\n",
       "Name: count, dtype: int64"
      ]
     },
     "execution_count": 32,
     "metadata": {},
     "output_type": "execute_result"
    }
   ],
   "source": [
    "dataframe_fiesc['Clusters'].value_counts()\n"
   ]
  },
  {
   "cell_type": "code",
   "execution_count": 33,
   "id": "4e2c0d0f",
   "metadata": {},
   "outputs": [],
   "source": [
    "list_col = ['Clusters']\n",
    "cols = [col for col in dataframe_fiesc if col not in list_col ]"
   ]
  },
  {
   "cell_type": "code",
   "execution_count": 34,
   "id": "b56baf75",
   "metadata": {},
   "outputs": [],
   "source": [
    "dataframe_fiesc = dataframe_fiesc.drop(['Cluster Labels'], axis = 1)"
   ]
  },
  {
   "cell_type": "code",
   "execution_count": 35,
   "id": "a27af65b",
   "metadata": {},
   "outputs": [
    {
     "data": {
      "text/html": [
       "<div>\n",
       "<style scoped>\n",
       "    .dataframe tbody tr th:only-of-type {\n",
       "        vertical-align: middle;\n",
       "    }\n",
       "\n",
       "    .dataframe tbody tr th {\n",
       "        vertical-align: top;\n",
       "    }\n",
       "\n",
       "    .dataframe thead th {\n",
       "        text-align: right;\n",
       "    }\n",
       "</style>\n",
       "<table border=\"1\" class=\"dataframe\">\n",
       "  <thead>\n",
       "    <tr style=\"text-align: right;\">\n",
       "      <th></th>\n",
       "      <th>produto</th>\n",
       "      <th>porte</th>\n",
       "      <th>setor</th>\n",
       "      <th>Clusters</th>\n",
       "    </tr>\n",
       "  </thead>\n",
       "  <tbody>\n",
       "    <tr>\n",
       "      <th>1</th>\n",
       "      <td>IEL</td>\n",
       "      <td>Micro</td>\n",
       "      <td>INDÚSTRIA GRÁFICA</td>\n",
       "      <td>Terceiro</td>\n",
       "    </tr>\n",
       "    <tr>\n",
       "      <th>2</th>\n",
       "      <td>IEL</td>\n",
       "      <td>Média</td>\n",
       "      <td>ALIMENTOS E BEBIDAS</td>\n",
       "      <td>Primeiro</td>\n",
       "    </tr>\n",
       "    <tr>\n",
       "      <th>3</th>\n",
       "      <td>IEL</td>\n",
       "      <td>Pequena</td>\n",
       "      <td>ALIMENTOS E BEBIDAS</td>\n",
       "      <td>Segundo</td>\n",
       "    </tr>\n",
       "    <tr>\n",
       "      <th>4</th>\n",
       "      <td>IEL</td>\n",
       "      <td>Pequena</td>\n",
       "      <td>SERVIÇOS FINANCEIROS E DE  SEGUROS</td>\n",
       "      <td>Segundo</td>\n",
       "    </tr>\n",
       "    <tr>\n",
       "      <th>5</th>\n",
       "      <td>IEL</td>\n",
       "      <td>Micro</td>\n",
       "      <td>ARTES, CULTURA E ESPORTE</td>\n",
       "      <td>Terceiro</td>\n",
       "    </tr>\n",
       "    <tr>\n",
       "      <th>...</th>\n",
       "      <td>...</td>\n",
       "      <td>...</td>\n",
       "      <td>...</td>\n",
       "      <td>...</td>\n",
       "    </tr>\n",
       "    <tr>\n",
       "      <th>21805</th>\n",
       "      <td>Saúde Assistencial</td>\n",
       "      <td>Pequena</td>\n",
       "      <td>SANEAMENTO BÁSICO</td>\n",
       "      <td>Segundo</td>\n",
       "    </tr>\n",
       "    <tr>\n",
       "      <th>21806</th>\n",
       "      <td>SEGURANÇA E SAÚDE NO TRABALHO</td>\n",
       "      <td>Pequena</td>\n",
       "      <td>SANEAMENTO BÁSICO</td>\n",
       "      <td>Segundo</td>\n",
       "    </tr>\n",
       "    <tr>\n",
       "      <th>21807</th>\n",
       "      <td>PROMOÇÃO DA SAÚDE</td>\n",
       "      <td>Pequena</td>\n",
       "      <td>SANEAMENTO BÁSICO</td>\n",
       "      <td>Segundo</td>\n",
       "    </tr>\n",
       "    <tr>\n",
       "      <th>21808</th>\n",
       "      <td>Saúde Assistencial</td>\n",
       "      <td>Pequena</td>\n",
       "      <td>SANEAMENTO BÁSICO</td>\n",
       "      <td>Segundo</td>\n",
       "    </tr>\n",
       "    <tr>\n",
       "      <th>21809</th>\n",
       "      <td>Saúde Assistencial</td>\n",
       "      <td>Pequena</td>\n",
       "      <td>SANEAMENTO BÁSICO</td>\n",
       "      <td>Segundo</td>\n",
       "    </tr>\n",
       "  </tbody>\n",
       "</table>\n",
       "<p>21809 rows × 4 columns</p>\n",
       "</div>"
      ],
      "text/plain": [
       "                             produto    porte  \\\n",
       "1                                IEL    Micro   \n",
       "2                                IEL    Média   \n",
       "3                                IEL  Pequena   \n",
       "4                                IEL  Pequena   \n",
       "5                                IEL    Micro   \n",
       "...                              ...      ...   \n",
       "21805             Saúde Assistencial  Pequena   \n",
       "21806  SEGURANÇA E SAÚDE NO TRABALHO  Pequena   \n",
       "21807              PROMOÇÃO DA SAÚDE  Pequena   \n",
       "21808             Saúde Assistencial  Pequena   \n",
       "21809             Saúde Assistencial  Pequena   \n",
       "\n",
       "                                    setor  Clusters  \n",
       "1                       INDÚSTRIA GRÁFICA  Terceiro  \n",
       "2                     ALIMENTOS E BEBIDAS  Primeiro  \n",
       "3                     ALIMENTOS E BEBIDAS   Segundo  \n",
       "4      SERVIÇOS FINANCEIROS E DE  SEGUROS   Segundo  \n",
       "5                ARTES, CULTURA E ESPORTE  Terceiro  \n",
       "...                                   ...       ...  \n",
       "21805                   SANEAMENTO BÁSICO   Segundo  \n",
       "21806                   SANEAMENTO BÁSICO   Segundo  \n",
       "21807                   SANEAMENTO BÁSICO   Segundo  \n",
       "21808                   SANEAMENTO BÁSICO   Segundo  \n",
       "21809                   SANEAMENTO BÁSICO   Segundo  \n",
       "\n",
       "[21809 rows x 4 columns]"
      ]
     },
     "execution_count": 35,
     "metadata": {},
     "output_type": "execute_result"
    }
   ],
   "source": [
    "dataframe_fiesc"
   ]
  },
  {
   "cell_type": "code",
   "execution_count": 36,
   "id": "c4b922df",
   "metadata": {},
   "outputs": [],
   "source": [
    "index = [\"Primeiro\",\"Segundo\",\"Terceiro\"]"
   ]
  },
  {
   "cell_type": "code",
   "execution_count": 37,
   "id": "93109733",
   "metadata": {},
   "outputs": [
    {
     "data": {
      "text/html": [
       "<div>\n",
       "<style scoped>\n",
       "    .dataframe tbody tr th:only-of-type {\n",
       "        vertical-align: middle;\n",
       "    }\n",
       "\n",
       "    .dataframe tbody tr th {\n",
       "        vertical-align: top;\n",
       "    }\n",
       "\n",
       "    .dataframe thead th {\n",
       "        text-align: right;\n",
       "    }\n",
       "</style>\n",
       "<table border=\"1\" class=\"dataframe\">\n",
       "  <thead>\n",
       "    <tr style=\"text-align: right;\">\n",
       "      <th></th>\n",
       "      <th>produto</th>\n",
       "      <th>porte</th>\n",
       "      <th>setor</th>\n",
       "    </tr>\n",
       "  </thead>\n",
       "  <tbody>\n",
       "    <tr>\n",
       "      <th>Primeiro</th>\n",
       "      <td>Qualificação</td>\n",
       "      <td>Média</td>\n",
       "      <td>TÊXTIL, CONFECÇÃO, COURO E CALÇADOS</td>\n",
       "    </tr>\n",
       "    <tr>\n",
       "      <th>Segundo</th>\n",
       "      <td>Saúde Assistencial</td>\n",
       "      <td>Pequena</td>\n",
       "      <td>TÊXTIL, CONFECÇÃO, COURO E CALÇADOS</td>\n",
       "    </tr>\n",
       "    <tr>\n",
       "      <th>Terceiro</th>\n",
       "      <td>SEGURANÇA E SAÚDE NO TRABALHO</td>\n",
       "      <td>Micro</td>\n",
       "      <td>COMÉRCIO VAREJISTA</td>\n",
       "    </tr>\n",
       "  </tbody>\n",
       "</table>\n",
       "</div>"
      ],
      "text/plain": [
       "                                produto    porte  \\\n",
       "Primeiro                   Qualificação    Média   \n",
       "Segundo              Saúde Assistencial  Pequena   \n",
       "Terceiro  SEGURANÇA E SAÚDE NO TRABALHO    Micro   \n",
       "\n",
       "                                        setor  \n",
       "Primeiro  TÊXTIL, CONFECÇÃO, COURO E CALÇADOS  \n",
       "Segundo   TÊXTIL, CONFECÇÃO, COURO E CALÇADOS  \n",
       "Terceiro                   COMÉRCIO VAREJISTA  "
      ]
     },
     "execution_count": 37,
     "metadata": {},
     "output_type": "execute_result"
    }
   ],
   "source": [
    "#agrupando os clusters pelos centroides\n",
    "df_final = pd.DataFrame(kmodes.cluster_centroids_, columns = cols, index = index)\n",
    "df_final"
   ]
  },
  {
   "cell_type": "markdown",
   "id": "1c0adc4c",
   "metadata": {},
   "source": [
    "# 3- Interpretação dos resultados"
   ]
  },
  {
   "cell_type": "code",
   "execution_count": 152,
   "id": "63f91e73",
   "metadata": {},
   "outputs": [
    {
     "name": "stdout",
     "output_type": "stream",
     "text": [
      "Requirement already satisfied: matplotlib in c:\\users\\deise\\anaconda3\\lib\\site-packages (3.7.3)Note: you may need to restart the kernel to use updated packages.\n",
      "Requirement already satisfied: pyparsing>=2.3.1 in c:\\users\\deise\\anaconda3\\lib\\site-packages (from matplotlib) (2.4.7)\n",
      "Requirement already satisfied: python-dateutil>=2.7 in c:\\users\\deise\\anaconda3\\lib\\site-packages (from matplotlib) (2.8.2)\n",
      "Requirement already satisfied: pillow>=6.2.0 in c:\\users\\deise\\anaconda3\\lib\\site-packages (from matplotlib) (8.2.0)\n",
      "Requirement already satisfied: packaging>=20.0 in c:\\users\\deise\\anaconda3\\lib\\site-packages (from matplotlib) (23.2)\n",
      "Requirement already satisfied: kiwisolver>=1.0.1 in c:\\users\\deise\\anaconda3\\lib\\site-packages (from matplotlib) (1.3.1)\n",
      "\n",
      "Requirement already satisfied: numpy<2,>=1.20 in c:\\users\\deise\\anaconda3\\lib\\site-packages (from matplotlib) (1.24.4)\n",
      "Requirement already satisfied: contourpy>=1.0.1 in c:\\users\\deise\\anaconda3\\lib\\site-packages (from matplotlib) (1.1.1)\n",
      "Requirement already satisfied: cycler>=0.10 in c:\\users\\deise\\anaconda3\\lib\\site-packages (from matplotlib) (0.10.0)\n",
      "Requirement already satisfied: importlib-resources>=3.2.0 in c:\\users\\deise\\anaconda3\\lib\\site-packages (from matplotlib) (6.1.0)\n",
      "Requirement already satisfied: fonttools>=4.22.0 in c:\\users\\deise\\anaconda3\\lib\\site-packages (from matplotlib) (4.43.0)\n",
      "Requirement already satisfied: six in c:\\users\\deise\\anaconda3\\lib\\site-packages (from cycler>=0.10->matplotlib) (1.15.0)\n",
      "Requirement already satisfied: zipp>=3.1.0 in c:\\users\\deise\\anaconda3\\lib\\site-packages (from importlib-resources>=3.2.0->matplotlib) (3.4.1)\n"
     ]
    }
   ],
   "source": [
    "pip install matplotlib"
   ]
  },
  {
   "cell_type": "code",
   "execution_count": 13,
   "id": "9bb62974",
   "metadata": {},
   "outputs": [],
   "source": [
    "import  plotly.express  as  px \n",
    "import matplotlib.pyplot as plt"
   ]
  },
  {
   "cell_type": "code",
   "execution_count": 242,
   "id": "4caddc85",
   "metadata": {},
   "outputs": [],
   "source": [
    "cores_hex = ['#081d58', '#253494', '#225ea8', '#1d91c0', '#41b6c4', '#7fcdbb', '#c7e9b4', '#edf8b1', '#ffffd9', '#ffffd9']"
   ]
  },
  {
   "cell_type": "markdown",
   "id": "b84ea534",
   "metadata": {},
   "source": [
    "# Total de cada cluster"
   ]
  },
  {
   "cell_type": "code",
   "execution_count": 318,
   "id": "ae164c08",
   "metadata": {},
   "outputs": [
    {
     "data": {
      "image/png": "[encoded data removed]",
      "text/plain": [
       "<Figure size 1080x360 with 1 Axes>"
      ]
     },
     "metadata": {},
     "output_type": "display_data"
    }
   ],
   "source": [
    "ax = df_total.plot(kind='bar', figsize=(15, 5),color=cores_hex, fontsize='large')\n",
    "\n",
    "for p in ax.patches:\n",
    "    ax.annotate(str(p.get_height()), (p.get_x() + p.get_width() / 2., p.get_height()),\n",
    "                ha='center', va='center', xytext=(0, 10), textcoords='offset points', fontsize='large')\n",
    "\n",
    "plt.xticks(rotation=0)\n",
    "#ax.yaxis.grid(color='gray', linestyle='-', linewidth=0.5)\n",
    "ax.set_facecolor('none')\n",
    "ax.axhline(0, color='gray', linewidth=2, linestyle='-')\n",
    "ax.set_xlabel('Clusters', fontsize='large')\n",
    "plt.show()"
   ]
  },
  {
   "cell_type": "markdown",
   "id": "85a25ef4",
   "metadata": {},
   "source": [
    "# Médias gerais"
   ]
  },
  {
   "cell_type": "code",
   "execution_count": 316,
   "id": "9561bec6",
   "metadata": {},
   "outputs": [
    {
     "data": {
      "text/html": [
       "<div>\n",
       "<style scoped>\n",
       "    .dataframe tbody tr th:only-of-type {\n",
       "        vertical-align: middle;\n",
       "    }\n",
       "\n",
       "    .dataframe tbody tr th {\n",
       "        vertical-align: top;\n",
       "    }\n",
       "\n",
       "    .dataframe thead th {\n",
       "        text-align: right;\n",
       "    }\n",
       "</style>\n",
       "<table border=\"1\" class=\"dataframe\">\n",
       "  <thead>\n",
       "    <tr style=\"text-align: right;\">\n",
       "      <th></th>\n",
       "      <th>produto_Educação</th>\n",
       "      <th>produto_Ensino Superior</th>\n",
       "      <th>produto_Ensino Técnico</th>\n",
       "      <th>produto_Ensino básico</th>\n",
       "      <th>produto_IEL</th>\n",
       "      <th>produto_PROMOÇÃO DA SAÚDE</th>\n",
       "      <th>produto_Qualificação</th>\n",
       "      <th>produto_SEGURANÇA E SAÚDE NO TRABALHO</th>\n",
       "      <th>produto_Saúde Assistencial</th>\n",
       "      <th>produto_Tecnologia</th>\n",
       "      <th>...</th>\n",
       "      <th>setor_SERVIÇOS DA SAÚDE</th>\n",
       "      <th>setor_SERVIÇOS DIVERSOS</th>\n",
       "      <th>setor_SERVIÇOS FINANCEIROS E DE  SEGUROS</th>\n",
       "      <th>setor_SERVIÇOS IMOBILIÁRIOS</th>\n",
       "      <th>setor_SERVIÇOS PROFISSIONAIS, CIENTÍFICOS E TÉCNICOS</th>\n",
       "      <th>setor_TIC</th>\n",
       "      <th>setor_TRANSPORTE, ARMAZENAGEM E CORREIO</th>\n",
       "      <th>setor_TÊXTIL, CONFECÇÃO, COURO E CALÇADOS</th>\n",
       "      <th>setor_não definido</th>\n",
       "      <th>setor_ÓLEO, GÁS E ELETRICIDADE</th>\n",
       "    </tr>\n",
       "    <tr>\n",
       "      <th>Clusters</th>\n",
       "      <th></th>\n",
       "      <th></th>\n",
       "      <th></th>\n",
       "      <th></th>\n",
       "      <th></th>\n",
       "      <th></th>\n",
       "      <th></th>\n",
       "      <th></th>\n",
       "      <th></th>\n",
       "      <th></th>\n",
       "      <th></th>\n",
       "      <th></th>\n",
       "      <th></th>\n",
       "      <th></th>\n",
       "      <th></th>\n",
       "      <th></th>\n",
       "      <th></th>\n",
       "      <th></th>\n",
       "      <th></th>\n",
       "      <th></th>\n",
       "      <th></th>\n",
       "    </tr>\n",
       "  </thead>\n",
       "  <tbody>\n",
       "    <tr>\n",
       "      <th>Primeiro</th>\n",
       "      <td>0.018724</td>\n",
       "      <td>0.034078</td>\n",
       "      <td>0.034203</td>\n",
       "      <td>0.028211</td>\n",
       "      <td>0.058794</td>\n",
       "      <td>0.078018</td>\n",
       "      <td>0.334665</td>\n",
       "      <td>0.096243</td>\n",
       "      <td>0.118712</td>\n",
       "      <td>0.198352</td>\n",
       "      <td>...</td>\n",
       "      <td>0.008988</td>\n",
       "      <td>0.015728</td>\n",
       "      <td>0.007864</td>\n",
       "      <td>0.000624</td>\n",
       "      <td>0.011859</td>\n",
       "      <td>0.018724</td>\n",
       "      <td>0.018475</td>\n",
       "      <td>0.198852</td>\n",
       "      <td>0.000250</td>\n",
       "      <td>0.006990</td>\n",
       "    </tr>\n",
       "    <tr>\n",
       "      <th>Segundo</th>\n",
       "      <td>0.006170</td>\n",
       "      <td>0.015197</td>\n",
       "      <td>0.022966</td>\n",
       "      <td>0.012683</td>\n",
       "      <td>0.049246</td>\n",
       "      <td>0.067756</td>\n",
       "      <td>0.000000</td>\n",
       "      <td>0.200868</td>\n",
       "      <td>0.445384</td>\n",
       "      <td>0.179730</td>\n",
       "      <td>...</td>\n",
       "      <td>0.008798</td>\n",
       "      <td>0.019995</td>\n",
       "      <td>0.013368</td>\n",
       "      <td>0.005027</td>\n",
       "      <td>0.034506</td>\n",
       "      <td>0.029707</td>\n",
       "      <td>0.022623</td>\n",
       "      <td>0.133569</td>\n",
       "      <td>0.000457</td>\n",
       "      <td>0.008341</td>\n",
       "    </tr>\n",
       "    <tr>\n",
       "      <th>Terceiro</th>\n",
       "      <td>0.003765</td>\n",
       "      <td>0.013278</td>\n",
       "      <td>0.018034</td>\n",
       "      <td>0.010702</td>\n",
       "      <td>0.115933</td>\n",
       "      <td>0.048751</td>\n",
       "      <td>0.012485</td>\n",
       "      <td>0.532303</td>\n",
       "      <td>0.022790</td>\n",
       "      <td>0.221958</td>\n",
       "      <td>...</td>\n",
       "      <td>0.029330</td>\n",
       "      <td>0.044392</td>\n",
       "      <td>0.010503</td>\n",
       "      <td>0.008918</td>\n",
       "      <td>0.077685</td>\n",
       "      <td>0.026754</td>\n",
       "      <td>0.042608</td>\n",
       "      <td>0.010107</td>\n",
       "      <td>0.000991</td>\n",
       "      <td>0.003369</td>\n",
       "    </tr>\n",
       "  </tbody>\n",
       "</table>\n",
       "<p>3 rows × 52 columns</p>\n",
       "</div>"
      ],
      "text/plain": [
       "          produto_Educação   produto_Ensino Superior  produto_Ensino Técnico  \\\n",
       "Clusters                                                                       \n",
       "Primeiro           0.018724                 0.034078                0.034203   \n",
       "Segundo            0.006170                 0.015197                0.022966   \n",
       "Terceiro           0.003765                 0.013278                0.018034   \n",
       "\n",
       "          produto_Ensino básico  produto_IEL  produto_PROMOÇÃO DA SAÚDE  \\\n",
       "Clusters                                                                  \n",
       "Primeiro               0.028211     0.058794                   0.078018   \n",
       "Segundo                0.012683     0.049246                   0.067756   \n",
       "Terceiro               0.010702     0.115933                   0.048751   \n",
       "\n",
       "          produto_Qualificação  produto_SEGURANÇA E SAÚDE NO TRABALHO  \\\n",
       "Clusters                                                                \n",
       "Primeiro              0.334665                               0.096243   \n",
       "Segundo               0.000000                               0.200868   \n",
       "Terceiro              0.012485                               0.532303   \n",
       "\n",
       "          produto_Saúde Assistencial  produto_Tecnologia  ...  \\\n",
       "Clusters                                                  ...   \n",
       "Primeiro                    0.118712            0.198352  ...   \n",
       "Segundo                     0.445384            0.179730  ...   \n",
       "Terceiro                    0.022790            0.221958  ...   \n",
       "\n",
       "          setor_SERVIÇOS DA SAÚDE  setor_SERVIÇOS DIVERSOS  \\\n",
       "Clusters                                                     \n",
       "Primeiro                 0.008988                 0.015728   \n",
       "Segundo                  0.008798                 0.019995   \n",
       "Terceiro                 0.029330                 0.044392   \n",
       "\n",
       "          setor_SERVIÇOS FINANCEIROS E DE  SEGUROS  \\\n",
       "Clusters                                             \n",
       "Primeiro                                  0.007864   \n",
       "Segundo                                   0.013368   \n",
       "Terceiro                                  0.010503   \n",
       "\n",
       "          setor_SERVIÇOS IMOBILIÁRIOS  \\\n",
       "Clusters                                \n",
       "Primeiro                     0.000624   \n",
       "Segundo                      0.005027   \n",
       "Terceiro                     0.008918   \n",
       "\n",
       "          setor_SERVIÇOS PROFISSIONAIS, CIENTÍFICOS E TÉCNICOS  setor_TIC  \\\n",
       "Clusters                                                                    \n",
       "Primeiro                                           0.011859      0.018724   \n",
       "Segundo                                            0.034506      0.029707   \n",
       "Terceiro                                           0.077685      0.026754   \n",
       "\n",
       "          setor_TRANSPORTE, ARMAZENAGEM E CORREIO  \\\n",
       "Clusters                                            \n",
       "Primeiro                                 0.018475   \n",
       "Segundo                                  0.022623   \n",
       "Terceiro                                 0.042608   \n",
       "\n",
       "          setor_TÊXTIL, CONFECÇÃO, COURO E CALÇADOS  setor_não definido  \\\n",
       "Clusters                                                                  \n",
       "Primeiro                                   0.198852            0.000250   \n",
       "Segundo                                    0.133569            0.000457   \n",
       "Terceiro                                   0.010107            0.000991   \n",
       "\n",
       "          setor_ÓLEO, GÁS E ELETRICIDADE  \n",
       "Clusters                                  \n",
       "Primeiro                        0.006990  \n",
       "Segundo                         0.008341  \n",
       "Terceiro                        0.003369  \n",
       "\n",
       "[3 rows x 52 columns]"
      ]
     },
     "execution_count": 316,
     "metadata": {},
     "output_type": "execute_result"
    }
   ],
   "source": [
    "df_media = dataframe_fiesc_d.groupby('Clusters').mean()\n",
    "df_media"
   ]
  },
  {
   "cell_type": "code",
   "execution_count": 48,
   "id": "858c73e7",
   "metadata": {},
   "outputs": [],
   "source": [
    "dataframe_fiesc_d['Clusters'] = dataframe_fiesc_d['Cluster Labels'].map({0: \"Primeiro\", 1: \"Segundo\", 2: \"Terceiro\"})"
   ]
  },
  {
   "cell_type": "markdown",
   "id": "4c586d8d",
   "metadata": {},
   "source": [
    "# Porte por Cluster"
   ]
  },
  {
   "cell_type": "code",
   "execution_count": 277,
   "id": "b21042b8",
   "metadata": {},
   "outputs": [
    {
     "data": {
      "text/html": [
       "<div>\n",
       "<style scoped>\n",
       "    .dataframe tbody tr th:only-of-type {\n",
       "        vertical-align: middle;\n",
       "    }\n",
       "\n",
       "    .dataframe tbody tr th {\n",
       "        vertical-align: top;\n",
       "    }\n",
       "\n",
       "    .dataframe thead th {\n",
       "        text-align: right;\n",
       "    }\n",
       "</style>\n",
       "<table border=\"1\" class=\"dataframe\">\n",
       "  <thead>\n",
       "    <tr style=\"text-align: right;\">\n",
       "      <th></th>\n",
       "      <th>porte_Grande</th>\n",
       "      <th>porte_Micro</th>\n",
       "      <th>porte_Média</th>\n",
       "      <th>porte_Pequena</th>\n",
       "    </tr>\n",
       "    <tr>\n",
       "      <th>Clusters</th>\n",
       "      <th></th>\n",
       "      <th></th>\n",
       "      <th></th>\n",
       "      <th></th>\n",
       "    </tr>\n",
       "  </thead>\n",
       "  <tbody>\n",
       "    <tr>\n",
       "      <th>Primeiro</th>\n",
       "      <td>18.50</td>\n",
       "      <td>10.27</td>\n",
       "      <td>58.28</td>\n",
       "      <td>12.94</td>\n",
       "    </tr>\n",
       "    <tr>\n",
       "      <th>Segundo</th>\n",
       "      <td>3.01</td>\n",
       "      <td>15.69</td>\n",
       "      <td>0.00</td>\n",
       "      <td>81.31</td>\n",
       "    </tr>\n",
       "    <tr>\n",
       "      <th>Terceiro</th>\n",
       "      <td>4.97</td>\n",
       "      <td>92.45</td>\n",
       "      <td>0.65</td>\n",
       "      <td>1.92</td>\n",
       "    </tr>\n",
       "  </tbody>\n",
       "</table>\n",
       "</div>"
      ],
      "text/plain": [
       "          porte_Grande  porte_Micro  porte_Média  porte_Pequena\n",
       "Clusters                                                       \n",
       "Primeiro         18.50        10.27        58.28          12.94\n",
       "Segundo           3.01        15.69         0.00          81.31\n",
       "Terceiro          4.97        92.45         0.65           1.92"
      ]
     },
     "execution_count": 277,
     "metadata": {},
     "output_type": "execute_result"
    }
   ],
   "source": [
    "df_porte = dataframe_fiesc_d.groupby('Clusters').mean().filter(like='porte')\n",
    "df_porte_percentual = df_porte.div(df_porte.sum(axis=1), axis=0) * 100\n",
    "df_porte_percentual = df_porte_percentual.round(2)\n",
    "\n",
    "df_porte_percentual"
   ]
  },
  {
   "cell_type": "code",
   "execution_count": 287,
   "id": "4b476de6",
   "metadata": {},
   "outputs": [],
   "source": [
    "df_porte_percentual_1 = df_porte_percentual.iloc[[0]].copy()\n",
    "df_porte_percentual_sorted_1 = df_porte_percentual_1.T.sort_values(by='Primeiro', ascending=False).T\n",
    "\n",
    "df_porte_percentual_2 = df_porte_percentual.iloc[[1]].copy()\n",
    "df_porte_percentual_sorted_2 = df_porte_percentual_2.T.sort_values(by='Segundo', ascending=False).T\n",
    "\n",
    "df_porte_percentual_3 = df_porte_percentual.iloc[[2]].copy()\n",
    "df_porte_percentual_sorted_3 = df_porte_percentual_3.T.sort_values(by='Terceiro', ascending=False).T"
   ]
  },
  {
   "cell_type": "code",
   "execution_count": 291,
   "id": "48f498b0",
   "metadata": {},
   "outputs": [
    {
     "data": {
      "image/png": "[encoded data removed]",
      "text/plain": [
       "<Figure size 1080x360 with 1 Axes>"
      ]
     },
     "metadata": {},
     "output_type": "display_data"
    }
   ],
   "source": [
    "ax = df_porte_percentual_sorted_1.plot(kind='bar', figsize=(15, 5),color=cores_hex, fontsize='large')\n",
    "\n",
    "for p in ax.patches:\n",
    "    ax.annotate(str(p.get_height()), (p.get_x() + p.get_width() / 2., p.get_height()),\n",
    "                ha='center', va='center', xytext=(0, 10), textcoords='offset points', fontsize='large')\n",
    "\n",
    "plt.xticks(rotation=0)\n",
    "#ax.yaxis.grid(color='gray', linestyle='-', linewidth=0.5)\n",
    "ax.set_facecolor('none')\n",
    "ax.axhline(0, color='gray', linewidth=2, linestyle='-')\n",
    "ax.set_xlabel('Clusters', fontsize='large')  \n",
    "plt.show()"
   ]
  },
  {
   "cell_type": "code",
   "execution_count": 292,
   "id": "44a66527",
   "metadata": {},
   "outputs": [
    {
     "data": {
      "image/png": "[encoded data removed]",
      "text/plain": [
       "<Figure size 1080x360 with 1 Axes>"
      ]
     },
     "metadata": {},
     "output_type": "display_data"
    }
   ],
   "source": [
    "ax = df_porte_percentual_sorted_2.plot(kind='bar', figsize=(15, 5),color=cores_hex, fontsize='large')\n",
    "\n",
    "for p in ax.patches:\n",
    "    ax.annotate(str(p.get_height()), (p.get_x() + p.get_width() / 2., p.get_height()),\n",
    "                ha='center', va='center', xytext=(0, 10), textcoords='offset points', fontsize='large')\n",
    "\n",
    "plt.xticks(rotation=0)\n",
    "#ax.yaxis.grid(color='gray', linestyle='-', linewidth=0.5)\n",
    "ax.set_facecolor('none')\n",
    "ax.axhline(0, color='gray', linewidth=2, linestyle='-')\n",
    "ax.set_xlabel('Clusters', fontsize='large')  \n",
    "plt.show()"
   ]
  },
  {
   "cell_type": "code",
   "execution_count": 317,
   "id": "bbf47a62",
   "metadata": {
    "scrolled": false
   },
   "outputs": [
    {
     "data": {
      "image/png": "[encoded data removed]",
      "text/plain": [
       "<Figure size 1080x576 with 1 Axes>"
      ]
     },
     "metadata": {},
     "output_type": "display_data"
    }
   ],
   "source": [
    "ax = df_porte_percentual_sorted_3.plot(kind='bar', figsize=(15, 8),color=cores_hex, fontsize='large')\n",
    "\n",
    "for p in ax.patches:\n",
    "    ax.annotate(str(p.get_height()), (p.get_x() + p.get_width() / 2., p.get_height()),\n",
    "                ha='center', va='center', xytext=(0, 10), textcoords='offset points', fontsize='large')\n",
    "\n",
    "plt.xticks(rotation=0)\n",
    "#ax.yaxis.grid(color='gray', linestyle='-', linewidth=0.5)\n",
    "ax.set_facecolor('none')\n",
    "ax.axhline(0, color='gray', linewidth=2, linestyle='-')\n",
    "ax.set_xlabel('Clusters', fontsize='large')  \n",
    "plt.show()"
   ]
  },
  {
   "cell_type": "markdown",
   "id": "893662f9",
   "metadata": {},
   "source": [
    "# Produto por Cluster"
   ]
  },
  {
   "cell_type": "code",
   "execution_count": 294,
   "id": "a5320523",
   "metadata": {},
   "outputs": [
    {
     "data": {
      "text/html": [
       "<div>\n",
       "<style scoped>\n",
       "    .dataframe tbody tr th:only-of-type {\n",
       "        vertical-align: middle;\n",
       "    }\n",
       "\n",
       "    .dataframe tbody tr th {\n",
       "        vertical-align: top;\n",
       "    }\n",
       "\n",
       "    .dataframe thead th {\n",
       "        text-align: right;\n",
       "    }\n",
       "</style>\n",
       "<table border=\"1\" class=\"dataframe\">\n",
       "  <thead>\n",
       "    <tr style=\"text-align: right;\">\n",
       "      <th></th>\n",
       "      <th>produto_Educação</th>\n",
       "      <th>produto_Ensino Superior</th>\n",
       "      <th>produto_Ensino Técnico</th>\n",
       "      <th>produto_Ensino básico</th>\n",
       "      <th>produto_IEL</th>\n",
       "      <th>produto_PROMOÇÃO DA SAÚDE</th>\n",
       "      <th>produto_Qualificação</th>\n",
       "      <th>produto_SEGURANÇA E SAÚDE NO TRABALHO</th>\n",
       "      <th>produto_Saúde Assistencial</th>\n",
       "      <th>produto_Tecnologia</th>\n",
       "    </tr>\n",
       "    <tr>\n",
       "      <th>Clusters</th>\n",
       "      <th></th>\n",
       "      <th></th>\n",
       "      <th></th>\n",
       "      <th></th>\n",
       "      <th></th>\n",
       "      <th></th>\n",
       "      <th></th>\n",
       "      <th></th>\n",
       "      <th></th>\n",
       "      <th></th>\n",
       "    </tr>\n",
       "  </thead>\n",
       "  <tbody>\n",
       "    <tr>\n",
       "      <th>Primeiro</th>\n",
       "      <td>1.87</td>\n",
       "      <td>3.41</td>\n",
       "      <td>3.42</td>\n",
       "      <td>2.82</td>\n",
       "      <td>5.88</td>\n",
       "      <td>7.80</td>\n",
       "      <td>33.47</td>\n",
       "      <td>9.62</td>\n",
       "      <td>11.87</td>\n",
       "      <td>19.84</td>\n",
       "    </tr>\n",
       "    <tr>\n",
       "      <th>Segundo</th>\n",
       "      <td>0.62</td>\n",
       "      <td>1.52</td>\n",
       "      <td>2.30</td>\n",
       "      <td>1.27</td>\n",
       "      <td>4.92</td>\n",
       "      <td>6.78</td>\n",
       "      <td>0.00</td>\n",
       "      <td>20.09</td>\n",
       "      <td>44.54</td>\n",
       "      <td>17.97</td>\n",
       "    </tr>\n",
       "    <tr>\n",
       "      <th>Terceiro</th>\n",
       "      <td>0.38</td>\n",
       "      <td>1.33</td>\n",
       "      <td>1.80</td>\n",
       "      <td>1.07</td>\n",
       "      <td>11.59</td>\n",
       "      <td>4.88</td>\n",
       "      <td>1.25</td>\n",
       "      <td>53.23</td>\n",
       "      <td>2.28</td>\n",
       "      <td>22.20</td>\n",
       "    </tr>\n",
       "  </tbody>\n",
       "</table>\n",
       "</div>"
      ],
      "text/plain": [
       "          produto_Educação   produto_Ensino Superior  produto_Ensino Técnico  \\\n",
       "Clusters                                                                       \n",
       "Primeiro               1.87                     3.41                    3.42   \n",
       "Segundo                0.62                     1.52                    2.30   \n",
       "Terceiro               0.38                     1.33                    1.80   \n",
       "\n",
       "          produto_Ensino básico  produto_IEL  produto_PROMOÇÃO DA SAÚDE  \\\n",
       "Clusters                                                                  \n",
       "Primeiro                   2.82         5.88                       7.80   \n",
       "Segundo                    1.27         4.92                       6.78   \n",
       "Terceiro                   1.07        11.59                       4.88   \n",
       "\n",
       "          produto_Qualificação  produto_SEGURANÇA E SAÚDE NO TRABALHO  \\\n",
       "Clusters                                                                \n",
       "Primeiro                 33.47                                   9.62   \n",
       "Segundo                   0.00                                  20.09   \n",
       "Terceiro                  1.25                                  53.23   \n",
       "\n",
       "          produto_Saúde Assistencial  produto_Tecnologia  \n",
       "Clusters                                                  \n",
       "Primeiro                       11.87               19.84  \n",
       "Segundo                        44.54               17.97  \n",
       "Terceiro                        2.28               22.20  "
      ]
     },
     "execution_count": 294,
     "metadata": {},
     "output_type": "execute_result"
    }
   ],
   "source": [
    "df_produto = dataframe_fiesc_d.groupby('Clusters').mean().filter(like='produto')\n",
    "df_produto_percentual = df_produto.div(df_produto.sum(axis=1), axis=0) * 100\n",
    "df_produto_percentual = df_produto_percentual.round(2)\n",
    "df_produto_percentual"
   ]
  },
  {
   "cell_type": "code",
   "execution_count": 296,
   "id": "e0ce961d",
   "metadata": {},
   "outputs": [],
   "source": [
    "df_produto_percentual_1 = df_produto_percentual.iloc[[0]].copy()\n",
    "df_produto_percentual_sorted_1 = df_produto_percentual_1.T.sort_values(by='Primeiro', ascending=False).T\n",
    "\n",
    "df_produto_percentual_2 = df_produto_percentual.iloc[[1]].copy()\n",
    "df_produto_percentual_sorted_2 = df_produto_percentual_2.T.sort_values(by='Segundo', ascending=False).T\n",
    "\n",
    "df_produto_percentual_3 = df_produto_percentual.iloc[[2]].copy()\n",
    "df_produto_percentual_sorted_3 = df_produto_percentual_3.T.sort_values(by='Terceiro', ascending=False).T"
   ]
  },
  {
   "cell_type": "code",
   "execution_count": 297,
   "id": "33debd8a",
   "metadata": {},
   "outputs": [
    {
     "data": {
      "image/png": "[encoded data removed]",
      "text/plain": [
       "<Figure size 1080x360 with 1 Axes>"
      ]
     },
     "metadata": {},
     "output_type": "display_data"
    }
   ],
   "source": [
    "ax = df_produto_percentual_sorted_1.plot(kind='bar', figsize=(15, 5),color=cores_hex, fontsize='large')\n",
    "\n",
    "for p in ax.patches:\n",
    "    ax.annotate(str(p.get_height()), (p.get_x() + p.get_width() / 2., p.get_height()),\n",
    "                ha='center', va='center', xytext=(0, 10), textcoords='offset points', fontsize='large')\n",
    "\n",
    "plt.xticks(rotation=0)\n",
    "#ax.yaxis.grid(color='gray', linestyle='-', linewidth=0.5)\n",
    "ax.set_facecolor('none')\n",
    "ax.axhline(0, color='gray', linewidth=2, linestyle='-')\n",
    "ax.set_xlabel('Clusters', fontsize='large')  \n",
    "plt.show()"
   ]
  },
  {
   "cell_type": "code",
   "execution_count": 298,
   "id": "8c285d31",
   "metadata": {},
   "outputs": [
    {
     "data": {
      "image/png": "[encoded data removed]",
      "text/plain": [
       "<Figure size 1080x360 with 1 Axes>"
      ]
     },
     "metadata": {},
     "output_type": "display_data"
    }
   ],
   "source": [
    "ax = df_produto_percentual_sorted_2.plot(kind='bar', figsize=(15, 5),color=cores_hex, fontsize='large')\n",
    "\n",
    "for p in ax.patches:\n",
    "    ax.annotate(str(p.get_height()), (p.get_x() + p.get_width() / 2., p.get_height()),\n",
    "                ha='center', va='center', xytext=(0, 10), textcoords='offset points', fontsize='large')\n",
    "\n",
    "plt.xticks(rotation=0)\n",
    "#ax.yaxis.grid(color='gray', linestyle='-', linewidth=0.5)\n",
    "ax.set_facecolor('none')\n",
    "ax.axhline(0, color='gray', linewidth=2, linestyle='-')\n",
    "ax.set_xlabel('Clusters', fontsize='large')  \n",
    "plt.show()"
   ]
  },
  {
   "cell_type": "code",
   "execution_count": 299,
   "id": "a5d441e2",
   "metadata": {},
   "outputs": [
    {
     "data": {
      "image/png": "[encoded data removed]",
      "text/plain": [
       "<Figure size 1080x360 with 1 Axes>"
      ]
     },
     "metadata": {},
     "output_type": "display_data"
    }
   ],
   "source": [
    "ax = df_produto_percentual_sorted_3.plot(kind='bar', figsize=(15, 5),color=cores_hex, fontsize='large')\n",
    "\n",
    "for p in ax.patches:\n",
    "    ax.annotate(str(p.get_height()), (p.get_x() + p.get_width() / 2., p.get_height()),\n",
    "                ha='center', va='center', xytext=(0, 10), textcoords='offset points', fontsize='large')\n",
    "\n",
    "plt.xticks(rotation=0)\n",
    "#ax.yaxis.grid(color='gray', linestyle='-', linewidth=0.5)\n",
    "ax.set_facecolor('none')\n",
    "ax.axhline(0, color='gray', linewidth=2, linestyle='-')\n",
    "ax.set_xlabel('Clusters', fontsize='large')  \n",
    "plt.show()"
   ]
  },
  {
   "cell_type": "markdown",
   "id": "7ba63812",
   "metadata": {},
   "source": [
    "# Setor por Cluster (10+)"
   ]
  },
  {
   "cell_type": "code",
   "execution_count": 302,
   "id": "26d12670",
   "metadata": {},
   "outputs": [
    {
     "data": {
      "text/html": [
       "<div>\n",
       "<style scoped>\n",
       "    .dataframe tbody tr th:only-of-type {\n",
       "        vertical-align: middle;\n",
       "    }\n",
       "\n",
       "    .dataframe tbody tr th {\n",
       "        vertical-align: top;\n",
       "    }\n",
       "\n",
       "    .dataframe thead th {\n",
       "        text-align: right;\n",
       "    }\n",
       "</style>\n",
       "<table border=\"1\" class=\"dataframe\">\n",
       "  <thead>\n",
       "    <tr style=\"text-align: right;\">\n",
       "      <th></th>\n",
       "      <th>setor_AGROPECUÁRIA</th>\n",
       "      <th>setor_ALIMENTOS E BEBIDAS</th>\n",
       "      <th>setor_ALOJAMENTO E ALIMENTAÇÃO</th>\n",
       "      <th>setor_ARTES, CULTURA E ESPORTE</th>\n",
       "      <th>setor_AUTOMOTIVA</th>\n",
       "      <th>setor_CELULOSE E PAPEL</th>\n",
       "      <th>setor_CERÂMICA</th>\n",
       "      <th>setor_COMÉRCIO DE VEÍCULOS AUTOMOTORES</th>\n",
       "      <th>setor_COMÉRCIO POR ATACADO</th>\n",
       "      <th>setor_COMÉRCIO VAREJISTA</th>\n",
       "      <th>...</th>\n",
       "      <th>setor_SERVIÇOS DA SAÚDE</th>\n",
       "      <th>setor_SERVIÇOS DIVERSOS</th>\n",
       "      <th>setor_SERVIÇOS FINANCEIROS E DE  SEGUROS</th>\n",
       "      <th>setor_SERVIÇOS IMOBILIÁRIOS</th>\n",
       "      <th>setor_SERVIÇOS PROFISSIONAIS, CIENTÍFICOS E TÉCNICOS</th>\n",
       "      <th>setor_TIC</th>\n",
       "      <th>setor_TRANSPORTE, ARMAZENAGEM E CORREIO</th>\n",
       "      <th>setor_TÊXTIL, CONFECÇÃO, COURO E CALÇADOS</th>\n",
       "      <th>setor_não definido</th>\n",
       "      <th>setor_ÓLEO, GÁS E ELETRICIDADE</th>\n",
       "    </tr>\n",
       "    <tr>\n",
       "      <th>Clusters</th>\n",
       "      <th></th>\n",
       "      <th></th>\n",
       "      <th></th>\n",
       "      <th></th>\n",
       "      <th></th>\n",
       "      <th></th>\n",
       "      <th></th>\n",
       "      <th></th>\n",
       "      <th></th>\n",
       "      <th></th>\n",
       "      <th></th>\n",
       "      <th></th>\n",
       "      <th></th>\n",
       "      <th></th>\n",
       "      <th></th>\n",
       "      <th></th>\n",
       "      <th></th>\n",
       "      <th></th>\n",
       "      <th></th>\n",
       "      <th></th>\n",
       "      <th></th>\n",
       "    </tr>\n",
       "  </thead>\n",
       "  <tbody>\n",
       "    <tr>\n",
       "      <th>Primeiro</th>\n",
       "      <td>0.42</td>\n",
       "      <td>8.89</td>\n",
       "      <td>0.29</td>\n",
       "      <td>0.19</td>\n",
       "      <td>3.06</td>\n",
       "      <td>2.87</td>\n",
       "      <td>2.62</td>\n",
       "      <td>0.87</td>\n",
       "      <td>3.64</td>\n",
       "      <td>1.60</td>\n",
       "      <td>...</td>\n",
       "      <td>0.90</td>\n",
       "      <td>1.57</td>\n",
       "      <td>0.79</td>\n",
       "      <td>0.06</td>\n",
       "      <td>1.19</td>\n",
       "      <td>1.87</td>\n",
       "      <td>1.85</td>\n",
       "      <td>19.89</td>\n",
       "      <td>0.02</td>\n",
       "      <td>0.70</td>\n",
       "    </tr>\n",
       "    <tr>\n",
       "      <th>Segundo</th>\n",
       "      <td>0.66</td>\n",
       "      <td>7.60</td>\n",
       "      <td>0.53</td>\n",
       "      <td>0.35</td>\n",
       "      <td>1.29</td>\n",
       "      <td>1.79</td>\n",
       "      <td>3.62</td>\n",
       "      <td>3.27</td>\n",
       "      <td>5.24</td>\n",
       "      <td>2.48</td>\n",
       "      <td>...</td>\n",
       "      <td>0.88</td>\n",
       "      <td>2.00</td>\n",
       "      <td>1.34</td>\n",
       "      <td>0.50</td>\n",
       "      <td>3.45</td>\n",
       "      <td>2.97</td>\n",
       "      <td>2.26</td>\n",
       "      <td>13.36</td>\n",
       "      <td>0.05</td>\n",
       "      <td>0.83</td>\n",
       "    </tr>\n",
       "    <tr>\n",
       "      <th>Terceiro</th>\n",
       "      <td>0.71</td>\n",
       "      <td>4.89</td>\n",
       "      <td>1.70</td>\n",
       "      <td>1.84</td>\n",
       "      <td>0.77</td>\n",
       "      <td>0.95</td>\n",
       "      <td>2.58</td>\n",
       "      <td>3.84</td>\n",
       "      <td>7.99</td>\n",
       "      <td>18.37</td>\n",
       "      <td>...</td>\n",
       "      <td>2.93</td>\n",
       "      <td>4.44</td>\n",
       "      <td>1.05</td>\n",
       "      <td>0.89</td>\n",
       "      <td>7.77</td>\n",
       "      <td>2.68</td>\n",
       "      <td>4.26</td>\n",
       "      <td>1.01</td>\n",
       "      <td>0.10</td>\n",
       "      <td>0.34</td>\n",
       "    </tr>\n",
       "  </tbody>\n",
       "</table>\n",
       "<p>3 rows × 38 columns</p>\n",
       "</div>"
      ],
      "text/plain": [
       "          setor_AGROPECUÁRIA  setor_ALIMENTOS E BEBIDAS  \\\n",
       "Clusters                                                  \n",
       "Primeiro                0.42                       8.89   \n",
       "Segundo                 0.66                       7.60   \n",
       "Terceiro                0.71                       4.89   \n",
       "\n",
       "          setor_ALOJAMENTO E ALIMENTAÇÃO  setor_ARTES, CULTURA E ESPORTE  \\\n",
       "Clusters                                                                   \n",
       "Primeiro                            0.29                            0.19   \n",
       "Segundo                             0.53                            0.35   \n",
       "Terceiro                            1.70                            1.84   \n",
       "\n",
       "          setor_AUTOMOTIVA  setor_CELULOSE E PAPEL  setor_CERÂMICA  \\\n",
       "Clusters                                                             \n",
       "Primeiro              3.06                    2.87            2.62   \n",
       "Segundo               1.29                    1.79            3.62   \n",
       "Terceiro              0.77                    0.95            2.58   \n",
       "\n",
       "          setor_COMÉRCIO DE VEÍCULOS AUTOMOTORES  setor_COMÉRCIO POR ATACADO  \\\n",
       "Clusters                                                                       \n",
       "Primeiro                                    0.87                        3.64   \n",
       "Segundo                                     3.27                        5.24   \n",
       "Terceiro                                    3.84                        7.99   \n",
       "\n",
       "          setor_COMÉRCIO VAREJISTA  ...  setor_SERVIÇOS DA SAÚDE  \\\n",
       "Clusters                            ...                            \n",
       "Primeiro                      1.60  ...                     0.90   \n",
       "Segundo                       2.48  ...                     0.88   \n",
       "Terceiro                     18.37  ...                     2.93   \n",
       "\n",
       "          setor_SERVIÇOS DIVERSOS  setor_SERVIÇOS FINANCEIROS E DE  SEGUROS  \\\n",
       "Clusters                                                                      \n",
       "Primeiro                     1.57                                      0.79   \n",
       "Segundo                      2.00                                      1.34   \n",
       "Terceiro                     4.44                                      1.05   \n",
       "\n",
       "          setor_SERVIÇOS IMOBILIÁRIOS  \\\n",
       "Clusters                                \n",
       "Primeiro                         0.06   \n",
       "Segundo                          0.50   \n",
       "Terceiro                         0.89   \n",
       "\n",
       "          setor_SERVIÇOS PROFISSIONAIS, CIENTÍFICOS E TÉCNICOS  setor_TIC  \\\n",
       "Clusters                                                                    \n",
       "Primeiro                                               1.19          1.87   \n",
       "Segundo                                                3.45          2.97   \n",
       "Terceiro                                               7.77          2.68   \n",
       "\n",
       "          setor_TRANSPORTE, ARMAZENAGEM E CORREIO  \\\n",
       "Clusters                                            \n",
       "Primeiro                                     1.85   \n",
       "Segundo                                      2.26   \n",
       "Terceiro                                     4.26   \n",
       "\n",
       "          setor_TÊXTIL, CONFECÇÃO, COURO E CALÇADOS  setor_não definido  \\\n",
       "Clusters                                                                  \n",
       "Primeiro                                      19.89                0.02   \n",
       "Segundo                                       13.36                0.05   \n",
       "Terceiro                                       1.01                0.10   \n",
       "\n",
       "          setor_ÓLEO, GÁS E ELETRICIDADE  \n",
       "Clusters                                  \n",
       "Primeiro                            0.70  \n",
       "Segundo                             0.83  \n",
       "Terceiro                            0.34  \n",
       "\n",
       "[3 rows x 38 columns]"
      ]
     },
     "execution_count": 302,
     "metadata": {},
     "output_type": "execute_result"
    }
   ],
   "source": [
    "df_setor = dataframe_fiesc_d.groupby('Clusters').sum().filter(like='setor')\n",
    "df_setor_percentual = df_setor.div(df_setor.sum(axis=1), axis=0) * 100\n",
    "df_setor_percentual = df_setor_percentual.round(2)\n",
    "df_setor_percentual"
   ]
  },
  {
   "cell_type": "code",
   "execution_count": 303,
   "id": "56c9a7f7",
   "metadata": {},
   "outputs": [],
   "source": [
    "df_setor_percentual_1 = df_setor_percentual.iloc[[0]].copy()\n",
    "df_setor_percentual_sorted_1 = df_setor_percentual_1.T.sort_values(by='Primeiro', ascending=False).T\n",
    "\n",
    "df_setor_percentual_2 = df_setor_percentual.iloc[[1]].copy()\n",
    "df_setor_percentual_sorted_2 = df_setor_percentual_2.T.sort_values(by='Segundo', ascending=False).T\n",
    "\n",
    "df_setor_percentual_3 = df_setor_percentual.iloc[[2]].copy()\n",
    "df_setor_percentual_sorted_3 = df_setor_percentual_3.T.sort_values(by='Terceiro', ascending=False).T"
   ]
  },
  {
   "cell_type": "code",
   "execution_count": 323,
   "id": "c0f98765",
   "metadata": {},
   "outputs": [
    {
     "data": {
      "image/png": "[encoded data removed]",
      "text/plain": [
       "<Figure size 1080x360 with 1 Axes>"
      ]
     },
     "metadata": {},
     "output_type": "display_data"
    }
   ],
   "source": [
    "df_1_top_5 = df_setor_percentual_sorted_1.iloc[:, :10]  # Seleciona as cinco primeiras colunas\n",
    "\n",
    "ax = df_1_top_5.plot(kind='bar', figsize=(15, 5), color=cores_hex, fontsize='large')\n",
    "\n",
    "for p in ax.patches:\n",
    "    ax.annotate(f'{p.get_height():.2f}', (p.get_x() + p.get_width() / 2., p.get_height()),\n",
    "                ha='center', va='center', xytext=(0, 10), textcoords='offset points', fontsize='large')\n",
    "\n",
    "plt.xticks(rotation=0)\n",
    "ax.set_facecolor('none')\n",
    "ax.axhline(0, color='gray', linewidth=2, linestyle='-')\n",
    "ax.set_xlabel('Clusters', fontsize='large')\n",
    "\n",
    "plt.show()\n"
   ]
  },
  {
   "cell_type": "code",
   "execution_count": 325,
   "id": "fa4451b8",
   "metadata": {},
   "outputs": [
    {
     "data": {
      "image/png": "[encoded data removed]",
      "text/plain": [
       "<Figure size 1080x360 with 1 Axes>"
      ]
     },
     "metadata": {},
     "output_type": "display_data"
    }
   ],
   "source": [
    "df_2_top_5 = df_setor_percentual_sorted_2.iloc[:, :10]  # Seleciona as cinco primeiras colunas\n",
    "\n",
    "ax = df_2_top_5.plot(kind='bar', figsize=(15, 5), color=cores_hex, fontsize='large')\n",
    "\n",
    "for p in ax.patches:\n",
    "    ax.annotate(f'{p.get_height():.2f}', (p.get_x() + p.get_width() / 2., p.get_height()),\n",
    "                ha='center', va='center', xytext=(0, 10), textcoords='offset points', fontsize='large')\n",
    "\n",
    "plt.xticks(rotation=0)\n",
    "ax.set_facecolor('none')\n",
    "ax.axhline(0, color='gray', linewidth=2, linestyle='-')\n",
    "ax.set_xlabel('Clusters', fontsize='large')\n",
    "\n",
    "plt.show()"
   ]
  },
  {
   "cell_type": "code",
   "execution_count": 321,
   "id": "958b27ad",
   "metadata": {},
   "outputs": [
    {
     "data": {
      "image/png": "[encoded data removed]",
      "text/plain": [
       "<Figure size 1080x360 with 1 Axes>"
      ]
     },
     "metadata": {},
     "output_type": "display_data"
    }
   ],
   "source": [
    "df_3_top_5 = df_setor_percentual_sorted_3.iloc[:, :10]  # Seleciona as cinco primeiras colunas\n",
    "\n",
    "ax = df_3_top_5.plot(kind='bar', figsize=(15, 5), color=cores_hex, fontsize='large')\n",
    "\n",
    "for p in ax.patches:\n",
    "    ax.annotate(f'{p.get_height():.2f}', (p.get_x() + p.get_width() / 2., p.get_height()),\n",
    "                ha='center', va='center', xytext=(0, 10), textcoords='offset points', fontsize='large')\n",
    "\n",
    "plt.xticks(rotation=0)\n",
    "ax.set_facecolor('none')\n",
    "ax.axhline(0, color='gray', linewidth=2, linestyle='-')\n",
    "ax.set_xlabel('Clusters', fontsize='large')\n",
    "\n",
    "plt.show()"
   ]
  },
  {
   "cell_type": "markdown",
   "id": "be70038d",
   "metadata": {},
   "source": [
    "## Primeiro Cluster:\n",
    "\n",
    "36% dos clientes\n",
    "\n",
    "portes: médias(58,28%)\n",
    "grandes (18,5%)\n",
    "\n",
    "produtos: qualificação + tecnologia (50%)\n",
    "saúde(30%)\n",
    "\n",
    "setor: indústria da transformação (têxtil - 19,89%)\n",
    "\n"
   ]
  },
  {
   "cell_type": "markdown",
   "id": "3647e554",
   "metadata": {},
   "source": [
    "## Segundo Cluster: \n",
    "\n",
    "40% dos clientes\n",
    "\n",
    "portes: pequenas(81,31%)\n",
    "micro(15,69%)\n",
    "\n",
    "produtos: saúde assistencial(44%)\n",
    "sst(20%)\n",
    "tecnologia(18%)\n",
    "\n",
    "setor: indústria da transformação (diverso)\n",
    "\n"
   ]
  },
  {
   "cell_type": "markdown",
   "id": "95aeff23",
   "metadata": {},
   "source": [
    "## Terceiro Cluster:\n",
    "\n",
    "23% dos clientes\n",
    "\n",
    "porte: micro(92,45%)\n",
    "\n",
    "produto: sst(53,23%)\n",
    "tecnologia(22,2%)\n",
    "\n",
    "setor: comércio e serviços (52%)\n",
    "\n"
   ]
  },
  {
   "cell_type": "code",
   "execution_count": null,
   "id": "d17215bb",
   "metadata": {},
   "outputs": [],
   "source": []
  }
 ],
 "metadata": {
  "kernelspec": {
   "display_name": "Python 3",
   "language": "python",
   "name": "python3"
  },
  "language_info": {
   "codemirror_mode": {
    "name": "ipython",
    "version": 3
   },
   "file_extension": ".py",
   "mimetype": "text/x-python",
   "name": "python",
   "nbconvert_exporter": "python",
   "pygments_lexer": "ipython3",
   "version": "3.8.8"
  }
 },
 "nbformat": 4,
 "nbformat_minor": 5
}
